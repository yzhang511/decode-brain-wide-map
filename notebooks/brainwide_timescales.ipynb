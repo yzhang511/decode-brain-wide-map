{
 "cells": [
  {
   "cell_type": "code",
   "execution_count": 1,
   "id": "34812d8d-a1c4-4cab-a1c1-96b04fa8992b",
   "metadata": {
    "tags": []
   },
   "outputs": [
    {
     "name": "stderr",
     "output_type": "stream",
     "text": [
      "/home/yizi/anaconda3/envs/ibl_bwm/lib/python3.10/site-packages/ibllib/atlas/__init__.py:202: DeprecationWarning: ibllib.atlas is deprecated. Please install iblatlas using \"pip install iblatlas\" and use this module instead\n",
      "  warnings.warn('ibllib.atlas is deprecated. Please install iblatlas using \"pip install iblatlas\" and use '\n"
     ]
    }
   ],
   "source": [
    "import os\n",
    "import sys\n",
    "import pickle\n",
    "from tqdm import tqdm\n",
    "import numpy as np\n",
    "import pandas as pd\n",
    "from pathlib import Path\n",
    "\n",
    "import matplotlib.pyplot as plt\n",
    "\n",
    "from one.api import ONE\n",
    "from brainbox.io.one import SessionLoader\n",
    "from iblatlas.regions import BrainRegions\n",
    "\n",
    "from sklearn import linear_model as sklm\n",
    "from sklearn.metrics import accuracy_score, balanced_accuracy_score, r2_score, roc_auc_score\n",
    "from sklearn.model_selection import KFold, train_test_split, GridSearchCV, StratifiedKFold\n",
    "from behavior_models.utils import format_data as format_data_mut\n",
    "from behavior_models.utils import format_input as format_input_mut\n",
    "\n",
    "from brainwidemap.bwm_loading import load_good_units, load_all_units, load_trials_and_mask, merge_probes\n",
    "from brainwidemap.decoding.functions.process_targets import load_behavior\n",
    "from brainwidemap.decoding.settings_for_BWM_figure.settings_choice import params\n",
    "from brainwidemap.decoding.settings_for_BWM_figure.settings_choice import RESULTS_DIR\n",
    "\n",
    "from brainwidemap.decoding.functions.balancedweightings import balanced_weighting\n",
    "from brainwidemap.decoding.functions.process_inputs import (\n",
    "    build_predictor_matrix,\n",
    "    select_ephys_regions,\n",
    "    preprocess_ephys\n",
    ")\n",
    "from brainwidemap.decoding.functions.process_targets import (\n",
    "    compute_beh_target,\n",
    "    compute_target_mask,\n",
    "    transform_data_for_decoding,\n",
    "    logisticreg_criteria,\n",
    "    get_target_data_per_trial_wrapper,\n",
    "    check_bhv_fit_exists,\n",
    "    optimal_Bayesian\n",
    ")\n",
    "from brainwidemap.decoding.functions.utils import save_region_results, get_save_path\n",
    "from brainwidemap.decoding.functions.nulldistributions import generate_null_distribution_session\n",
    "from brainwidemap.decoding.functions.decoding import decode_cv"
   ]
  },
  {
   "cell_type": "code",
   "execution_count": 2,
   "id": "c5b87d8e-caa8-4bed-9140-e31d01cf1587",
   "metadata": {
    "tags": []
   },
   "outputs": [],
   "source": [
    "def reduced_rank_close_form(X_c, Y_c, R, penalty):\n",
    "    \n",
    "    K, T, C = X_c.shape\n",
    "    \n",
    "    # compute U\n",
    "    S_t = np.einsum(\"ktc,kdn->ctdn\", X_c, X_c)\n",
    "    \n",
    "    I = np.eye(C*T)\n",
    "    np.fill_diagonal(I, penalty)\n",
    "    I = I.reshape(C, T, T, C)\n",
    "    S_t = S_t + I\n",
    "    \n",
    "    D = np.eye(C*T)\n",
    "    np.fill_diagonal(D, 1/np.diag(S_t.reshape(C*T, T*C)))\n",
    "    D = np.sqrt(D).reshape(C,T,T,C)\n",
    "    D[np.isnan(D)] = np.nanmean(D)\n",
    "\n",
    "    XY = (X_c.T @ Y_c).reshape(C,T)\n",
    "                     \n",
    "    U, _, _ = np.linalg.svd(XY)\n",
    "    U = U[:,:R]\n",
    "    \n",
    "    # compute V\n",
    "    G_part = np.einsum(\"cr, ctdn->rtdn\", U, S_t)\n",
    "    G = np.einsum(\"rtdn, ns->rs\", G_part, U)\n",
    "    H = U.T @ (X_c.T @ Y_c).squeeze()\n",
    "    V = np.linalg.inv(G) @ H\n",
    "    \n",
    "    return U, V"
   ]
  },
  {
   "cell_type": "markdown",
   "id": "85c4976e-a2b4-4ab6-8576-f220e9bd572f",
   "metadata": {},
   "source": [
    "### load data"
   ]
  },
  {
   "cell_type": "code",
   "execution_count": 3,
   "id": "7db41837-2f33-48c8-8629-2702ad9aa605",
   "metadata": {
    "tags": []
   },
   "outputs": [],
   "source": [
    "roi = \"VISa\""
   ]
  },
  {
   "cell_type": "code",
   "execution_count": 4,
   "id": "508ca24b-d421-4e3e-8a13-5ef567480691",
   "metadata": {
    "tags": []
   },
   "outputs": [
    {
     "name": "stdout",
     "output_type": "stream",
     "text": [
      "choice\n",
      "stimOn_times\n",
      "(-0.5, 1.5)\n",
      "0.05\n",
      "79\n"
     ]
    }
   ],
   "source": [
    "print(params['target'])\n",
    "params['behfit_path'] = RESULTS_DIR.joinpath('decoding', 'results', 'behavioral')\n",
    "params['behfit_path'].mkdir(parents=True, exist_ok=True)\n",
    "params['neuralfit_path'] = RESULTS_DIR.joinpath('decoding', 'results', 'neural')\n",
    "params['neuralfit_path'].mkdir(parents=True, exist_ok=True)\n",
    "params['add_to_saving_path'] = (f\"_binsize={1000 * params['binsize']}_lags={params['n_bins_lag']}_\"\n",
    "                                f\"mergedProbes_{params['merged_probes']}\")\n",
    "imposter_file = RESULTS_DIR.joinpath('decoding', f\"imposterSessions_{params['target']}.pqt\")\n",
    "bwm_session_file = RESULTS_DIR.joinpath('decoding', 'bwm_cache_sessions.pqt')\n",
    "print(params[\"align_time\"])\n",
    "params[\"time_window\"] = (-0.5, 1.5)\n",
    "print(params[\"time_window\"])\n",
    "params[\"binsize\"] = 0.05\n",
    "print(params[\"binsize\"])\n",
    "params['n_pseudo'] = 0\n",
    "params['n_runs'] = 1\n",
    "\n",
    "one = ONE(base_url=\"https://openalyx.internationalbrainlab.org\", mode='remote')\n",
    "bwm_df = pd.read_parquet(bwm_session_file)\n",
    "\n",
    "pids_per_region = one.search_insertions(atlas_acronym=[roi], query_type='remote')\n",
    "print(len(pids_per_region))\n",
    "\n",
    "bwm_df = bwm_df.loc[bwm_df.pid.isin(pids_per_region)]\n",
    "unit_type = \"all_units\"\n",
    "dir_path = Path(\"/home/yizi/decode-brain-wide-map/results\")/roi\n"
   ]
  },
  {
   "cell_type": "code",
   "execution_count": 5,
   "id": "baece939-7e7a-49c5-8430-8dc7d335d44b",
   "metadata": {
    "tags": []
   },
   "outputs": [
    {
     "name": "stdout",
     "output_type": "stream",
     "text": [
      "1 / 16 ...\n",
      "truncated job because this job_repeat (0) includes more than 0 pseudo sessions\n",
      "Running merged probes for session eid: 6713a4a7-faed-4df2-acab-ee4e63326f8d\n"
     ]
    },
    {
     "name": "stderr",
     "output_type": "stream",
     "text": [
      "/home/yizi/anaconda3/envs/ibl_bwm/lib/python3.10/site-packages/one/api.py:296: FutureWarning: Setting an item of incompatible dtype is deprecated and will raise in a future error of pandas. Value '[nan nan nan nan nan nan nan nan nan nan nan nan nan nan nan nan nan nan\n",
      " nan nan nan nan nan nan nan nan nan nan nan nan nan nan nan nan nan nan\n",
      " nan nan nan nan nan nan nan nan nan nan nan nan nan nan nan nan nan nan\n",
      " nan nan nan nan nan nan nan nan nan nan nan nan nan nan nan nan nan nan\n",
      " nan nan]' has dtype incompatible with bool, please explicitly cast to a compatible dtype first.\n",
      "  self._cache[table].loc[records.index[to_update], :] = records[to_update]\n",
      "/home/yizi/anaconda3/envs/ibl_bwm/lib/python3.10/site-packages/one/api.py:296: FutureWarning: Setting an item of incompatible dtype is deprecated and will raise in a future error of pandas. Value '[nan nan nan nan nan nan nan nan nan nan nan nan nan nan nan nan nan nan\n",
      " nan nan nan nan nan nan nan nan nan nan nan nan nan nan nan nan nan nan\n",
      " nan nan nan nan nan nan nan nan nan nan nan nan nan nan nan nan nan nan\n",
      " nan nan nan nan nan nan nan nan nan nan nan nan nan nan nan nan nan nan\n",
      " nan nan]' has dtype incompatible with bool, please explicitly cast to a compatible dtype first.\n",
      "  self._cache[table].loc[records.index[to_update], :] = records[to_update]\n"
     ]
    },
    {
     "name": "stdout",
     "output_type": "stream",
     "text": [
      "error loading choice data\n",
      "\n",
      "Working on eid: 6713a4a7-faed-4df2-acab-ee4e63326f8d\n"
     ]
    },
    {
     "name": "stderr",
     "output_type": "stream",
     "text": [
      "Region:   0%|                                             | 0/1 [00:00<?, ?it/s]"
     ]
    },
    {
     "name": "stdout",
     "output_type": "stream",
     "text": [
      "VISa\n",
      "# units: 8\n"
     ]
    },
    {
     "name": "stderr",
     "output_type": "stream",
     "text": [
      "\n",
      "  0%|                                                     | 0/5 [00:00<?, ?it/s]\u001b[A/tmp/ipykernel_41749/2536621855.py:15: RuntimeWarning: invalid value encountered in sqrt\n",
      "  D = np.sqrt(D).reshape(C,T,T,C)\n",
      "\n",
      " 20%|█████████                                    | 1/5 [00:04<00:18,  4.54s/it]\u001b[A/tmp/ipykernel_41749/2536621855.py:15: RuntimeWarning: invalid value encountered in sqrt\n",
      "  D = np.sqrt(D).reshape(C,T,T,C)\n",
      "\n",
      " 40%|██████████████████                           | 2/5 [00:09<00:14,  4.71s/it]\u001b[A/tmp/ipykernel_41749/2536621855.py:15: RuntimeWarning: invalid value encountered in sqrt\n",
      "  D = np.sqrt(D).reshape(C,T,T,C)\n",
      "\n",
      " 60%|███████████████████████████                  | 3/5 [00:14<00:09,  4.96s/it]\u001b[A/tmp/ipykernel_41749/2536621855.py:15: RuntimeWarning: invalid value encountered in sqrt\n",
      "  D = np.sqrt(D).reshape(C,T,T,C)\n",
      "\n",
      " 80%|████████████████████████████████████         | 4/5 [00:19<00:04,  4.80s/it]\u001b[A/tmp/ipykernel_41749/2536621855.py:15: RuntimeWarning: invalid value encountered in sqrt\n",
      "  D = np.sqrt(D).reshape(C,T,T,C)\n",
      "\n",
      "100%|█████████████████████████████████████████████| 5/5 [00:24<00:00,  4.94s/it]\u001b[A\n"
     ]
    },
    {
     "name": "stdout",
     "output_type": "stream",
     "text": [
      "baseline acc:  0.504 auc:  0.611\n",
      "reduced-rank acc:  0.530 auc:  0.595\n"
     ]
    },
    {
     "data": {
      "image/png": "[encoded data removed]",
      "text/plain": [
       "<Figure size 400x200 with 1 Axes>"
      ]
     },
     "metadata": {},
     "output_type": "display_data"
    },
    {
     "name": "stderr",
     "output_type": "stream",
     "text": [
      "                                                                                \r"
     ]
    },
    {
     "name": "stdout",
     "output_type": "stream",
     "text": [
      "/home/yizi/decode-brain-wide-map/results/VISa/6713a4a7-faed-4df2-acab-ee4e63326f8d/stimOn_times_-0.5_1.5_0.05_all_units.npy\n",
      "Finished eid: 6713a4a7-faed-4df2-acab-ee4e63326f8d\n",
      "[0.5039098473275898, 0.6110444992277324, 0.5298493774861085, 0.5951156006085275]\n",
      "2 / 16 ...\n",
      "truncated job because this job_repeat (0) includes more than 0 pseudo sessions\n",
      "Running merged probes for session eid: 56956777-dca5-468c-87cb-78150432cc57\n",
      "error loading choice data\n",
      "\n",
      "Working on eid: 56956777-dca5-468c-87cb-78150432cc57\n"
     ]
    },
    {
     "name": "stderr",
     "output_type": "stream",
     "text": [
      "Region:   0%|                                             | 0/1 [00:00<?, ?it/s]"
     ]
    },
    {
     "name": "stdout",
     "output_type": "stream",
     "text": [
      "VISa\n",
      "# units: 14\n"
     ]
    },
    {
     "name": "stderr",
     "output_type": "stream",
     "text": [
      "\n",
      "  0%|                                                     | 0/5 [00:00<?, ?it/s]\u001b[A/tmp/ipykernel_41749/2536621855.py:15: RuntimeWarning: invalid value encountered in sqrt\n",
      "  D = np.sqrt(D).reshape(C,T,T,C)\n",
      "\n",
      " 20%|█████████                                    | 1/5 [00:02<00:09,  2.33s/it]\u001b[A/tmp/ipykernel_41749/2536621855.py:15: RuntimeWarning: invalid value encountered in sqrt\n",
      "  D = np.sqrt(D).reshape(C,T,T,C)\n",
      "\n",
      " 40%|██████████████████                           | 2/5 [00:05<00:08,  2.94s/it]\u001b[A/tmp/ipykernel_41749/2536621855.py:15: RuntimeWarning: invalid value encountered in sqrt\n",
      "  D = np.sqrt(D).reshape(C,T,T,C)\n",
      "\n",
      " 60%|███████████████████████████                  | 3/5 [00:08<00:05,  2.78s/it]\u001b[A/tmp/ipykernel_41749/2536621855.py:15: RuntimeWarning: invalid value encountered in sqrt\n",
      "  D = np.sqrt(D).reshape(C,T,T,C)\n",
      "\n",
      " 80%|████████████████████████████████████         | 4/5 [00:10<00:02,  2.43s/it]\u001b[A/tmp/ipykernel_41749/2536621855.py:15: RuntimeWarning: invalid value encountered in sqrt\n",
      "  D = np.sqrt(D).reshape(C,T,T,C)\n",
      "\n",
      "100%|█████████████████████████████████████████████| 5/5 [00:12<00:00,  2.40s/it]\u001b[A"
     ]
    },
    {
     "name": "stdout",
     "output_type": "stream",
     "text": [
      "baseline acc:  0.572 auc:  0.665\n",
      "reduced-rank acc:  0.620 auc:  0.659\n"
     ]
    },
    {
     "name": "stderr",
     "output_type": "stream",
     "text": [
      "\n"
     ]
    },
    {
     "data": {
      "image/png": "[encoded data removed]",
      "text/plain": [
       "<Figure size 400x200 with 1 Axes>"
      ]
     },
     "metadata": {},
     "output_type": "display_data"
    },
    {
     "name": "stderr",
     "output_type": "stream",
     "text": [
      "                                                                                \r"
     ]
    },
    {
     "name": "stdout",
     "output_type": "stream",
     "text": [
      "/home/yizi/decode-brain-wide-map/results/VISa/56956777-dca5-468c-87cb-78150432cc57/stimOn_times_-0.5_1.5_0.05_all_units.npy\n",
      "Finished eid: 56956777-dca5-468c-87cb-78150432cc57\n",
      "[0.5716141139892386, 0.6651171289909722, 0.6201467692341216, 0.6591439946043194]\n",
      "3 / 16 ...\n",
      "truncated job because this job_repeat (0) includes more than 0 pseudo sessions\n",
      "Running merged probes for session eid: a8a8af78-16de-4841-ab07-fde4b5281a03\n",
      "error loading choice data\n",
      "\n",
      "Working on eid: a8a8af78-16de-4841-ab07-fde4b5281a03\n"
     ]
    },
    {
     "name": "stderr",
     "output_type": "stream",
     "text": [
      "Region:   0%|                                             | 0/1 [00:00<?, ?it/s]"
     ]
    },
    {
     "name": "stdout",
     "output_type": "stream",
     "text": [
      "VISa\n",
      "# units: 72\n"
     ]
    },
    {
     "name": "stderr",
     "output_type": "stream",
     "text": [
      "\n",
      "  0%|                                                     | 0/5 [00:00<?, ?it/s]\u001b[A/tmp/ipykernel_41749/2536621855.py:15: RuntimeWarning: invalid value encountered in sqrt\n",
      "  D = np.sqrt(D).reshape(C,T,T,C)\n",
      "\n",
      " 20%|█████████                                    | 1/5 [00:09<00:38,  9.74s/it]\u001b[A/tmp/ipykernel_41749/2536621855.py:15: RuntimeWarning: invalid value encountered in sqrt\n",
      "  D = np.sqrt(D).reshape(C,T,T,C)\n",
      "\n",
      " 40%|██████████████████                           | 2/5 [00:18<00:27,  9.28s/it]\u001b[A/tmp/ipykernel_41749/2536621855.py:15: RuntimeWarning: invalid value encountered in sqrt\n",
      "  D = np.sqrt(D).reshape(C,T,T,C)\n",
      "\n",
      " 60%|███████████████████████████                  | 3/5 [00:28<00:18,  9.40s/it]\u001b[A/tmp/ipykernel_41749/2536621855.py:15: RuntimeWarning: invalid value encountered in sqrt\n",
      "  D = np.sqrt(D).reshape(C,T,T,C)\n",
      "\n",
      " 80%|████████████████████████████████████         | 4/5 [00:37<00:09,  9.23s/it]\u001b[A/tmp/ipykernel_41749/2536621855.py:15: RuntimeWarning: invalid value encountered in sqrt\n",
      "  D = np.sqrt(D).reshape(C,T,T,C)\n",
      "\n",
      "100%|█████████████████████████████████████████████| 5/5 [00:46<00:00,  9.28s/it]\u001b[A"
     ]
    },
    {
     "name": "stdout",
     "output_type": "stream",
     "text": [
      "baseline acc:  0.686 auc:  0.755\n",
      "reduced-rank acc:  0.670 auc:  0.758\n"
     ]
    },
    {
     "name": "stderr",
     "output_type": "stream",
     "text": [
      "\n"
     ]
    },
    {
     "data": {
      "image/png": "[encoded data removed]",
      "text/plain": [
       "<Figure size 400x200 with 1 Axes>"
      ]
     },
     "metadata": {},
     "output_type": "display_data"
    },
    {
     "name": "stderr",
     "output_type": "stream",
     "text": [
      "                                                                                \r"
     ]
    },
    {
     "name": "stdout",
     "output_type": "stream",
     "text": [
      "/home/yizi/decode-brain-wide-map/results/VISa/a8a8af78-16de-4841-ab07-fde4b5281a03/stimOn_times_-0.5_1.5_0.05_all_units.npy\n",
      "Finished eid: a8a8af78-16de-4841-ab07-fde4b5281a03\n",
      "[0.6862594066557002, 0.7551363223976102, 0.6702510855409323, 0.7580695294989044]\n",
      "4 / 16 ...\n",
      "truncated job because this job_repeat (0) includes more than 0 pseudo sessions\n",
      "Running merged probes for session eid: 6ed57216-498d-48a6-b48b-a243a34710ea\n",
      "error loading choice data\n",
      "\n",
      "Working on eid: 6ed57216-498d-48a6-b48b-a243a34710ea\n"
     ]
    },
    {
     "name": "stderr",
     "output_type": "stream",
     "text": [
      "Region:   0%|                                             | 0/1 [00:00<?, ?it/s]"
     ]
    },
    {
     "name": "stdout",
     "output_type": "stream",
     "text": [
      "VISa\n",
      "# units: 51\n"
     ]
    },
    {
     "name": "stderr",
     "output_type": "stream",
     "text": [
      "\n",
      "  0%|                                                     | 0/5 [00:00<?, ?it/s]\u001b[A/tmp/ipykernel_41749/2536621855.py:15: RuntimeWarning: invalid value encountered in sqrt\n",
      "  D = np.sqrt(D).reshape(C,T,T,C)\n",
      "\n",
      " 20%|█████████                                    | 1/5 [00:09<00:36,  9.06s/it]\u001b[A/tmp/ipykernel_41749/2536621855.py:15: RuntimeWarning: invalid value encountered in sqrt\n",
      "  D = np.sqrt(D).reshape(C,T,T,C)\n",
      "\n",
      " 40%|██████████████████                           | 2/5 [00:18<00:27,  9.19s/it]\u001b[A/tmp/ipykernel_41749/2536621855.py:15: RuntimeWarning: invalid value encountered in sqrt\n",
      "  D = np.sqrt(D).reshape(C,T,T,C)\n",
      "\n",
      " 60%|███████████████████████████                  | 3/5 [00:26<00:17,  8.74s/it]\u001b[A/tmp/ipykernel_41749/2536621855.py:15: RuntimeWarning: invalid value encountered in sqrt\n",
      "  D = np.sqrt(D).reshape(C,T,T,C)\n",
      "\n",
      " 80%|████████████████████████████████████         | 4/5 [00:36<00:09,  9.19s/it]\u001b[A/tmp/ipykernel_41749/2536621855.py:15: RuntimeWarning: invalid value encountered in sqrt\n",
      "  D = np.sqrt(D).reshape(C,T,T,C)\n",
      "\n",
      "100%|█████████████████████████████████████████████| 5/5 [00:46<00:00,  9.29s/it]\u001b[A\n"
     ]
    },
    {
     "name": "stdout",
     "output_type": "stream",
     "text": [
      "baseline acc:  0.739 auc:  0.815\n",
      "reduced-rank acc:  0.664 auc:  0.720\n"
     ]
    },
    {
     "data": {
      "image/png": "[encoded data removed]",
      "text/plain": [
       "<Figure size 400x200 with 1 Axes>"
      ]
     },
     "metadata": {},
     "output_type": "display_data"
    },
    {
     "name": "stderr",
     "output_type": "stream",
     "text": [
      "                                                                                \r"
     ]
    },
    {
     "name": "stdout",
     "output_type": "stream",
     "text": [
      "/home/yizi/decode-brain-wide-map/results/VISa/6ed57216-498d-48a6-b48b-a243a34710ea/stimOn_times_-0.5_1.5_0.05_all_units.npy\n",
      "Finished eid: 6ed57216-498d-48a6-b48b-a243a34710ea\n",
      "[0.7387120843032172, 0.814664442700157, 0.66439432324654, 0.7199838863927533]\n",
      "5 / 16 ...\n",
      "truncated job because this job_repeat (0) includes more than 0 pseudo sessions\n",
      "Running merged probes for session eid: 51e53aff-1d5d-4182-a684-aba783d50ae5\n",
      "error loading choice data\n",
      "\n",
      "Working on eid: 51e53aff-1d5d-4182-a684-aba783d50ae5\n"
     ]
    },
    {
     "name": "stderr",
     "output_type": "stream",
     "text": [
      "Region:   0%|                                             | 0/1 [00:00<?, ?it/s]"
     ]
    },
    {
     "name": "stdout",
     "output_type": "stream",
     "text": [
      "VISa\n",
      "# units: 51\n"
     ]
    },
    {
     "name": "stderr",
     "output_type": "stream",
     "text": [
      "\n",
      "  0%|                                                     | 0/5 [00:00<?, ?it/s]\u001b[A/tmp/ipykernel_41749/2536621855.py:15: RuntimeWarning: invalid value encountered in sqrt\n",
      "  D = np.sqrt(D).reshape(C,T,T,C)\n",
      "\n",
      " 20%|█████████                                    | 1/5 [00:07<00:30,  7.51s/it]\u001b[A/tmp/ipykernel_41749/2536621855.py:15: RuntimeWarning: invalid value encountered in sqrt\n",
      "  D = np.sqrt(D).reshape(C,T,T,C)\n",
      "\n",
      " 40%|██████████████████                           | 2/5 [00:13<00:20,  6.90s/it]\u001b[A/tmp/ipykernel_41749/2536621855.py:15: RuntimeWarning: invalid value encountered in sqrt\n",
      "  D = np.sqrt(D).reshape(C,T,T,C)\n",
      "\n",
      " 60%|███████████████████████████                  | 3/5 [00:21<00:14,  7.39s/it]\u001b[A/tmp/ipykernel_41749/2536621855.py:15: RuntimeWarning: invalid value encountered in sqrt\n",
      "  D = np.sqrt(D).reshape(C,T,T,C)\n",
      "\n",
      " 80%|████████████████████████████████████         | 4/5 [00:28<00:07,  7.11s/it]\u001b[A/tmp/ipykernel_41749/2536621855.py:15: RuntimeWarning: invalid value encountered in sqrt\n",
      "  D = np.sqrt(D).reshape(C,T,T,C)\n",
      "\n",
      "100%|█████████████████████████████████████████████| 5/5 [00:36<00:00,  7.20s/it]\u001b[A\n"
     ]
    },
    {
     "name": "stdout",
     "output_type": "stream",
     "text": [
      "baseline acc:  0.798 auc:  0.876\n",
      "reduced-rank acc:  0.689 auc:  0.767\n"
     ]
    },
    {
     "data": {
      "image/png": "[encoded data removed]",
      "text/plain": [
       "<Figure size 400x200 with 1 Axes>"
      ]
     },
     "metadata": {},
     "output_type": "display_data"
    },
    {
     "name": "stderr",
     "output_type": "stream",
     "text": [
      "                                                                                \r"
     ]
    },
    {
     "name": "stdout",
     "output_type": "stream",
     "text": [
      "/home/yizi/decode-brain-wide-map/results/VISa/51e53aff-1d5d-4182-a684-aba783d50ae5/stimOn_times_-0.5_1.5_0.05_all_units.npy\n",
      "Finished eid: 51e53aff-1d5d-4182-a684-aba783d50ae5\n",
      "[0.7980349468115172, 0.8760468756894388, 0.6888772850970267, 0.7666644231547928]\n",
      "6 / 16 ...\n",
      "truncated job because this job_repeat (0) includes more than 0 pseudo sessions\n",
      "Running merged probes for session eid: 4b7fbad4-f6de-43b4-9b15-c7c7ef44db4b\n",
      "error loading choice data\n",
      "\n",
      "Working on eid: 4b7fbad4-f6de-43b4-9b15-c7c7ef44db4b\n"
     ]
    },
    {
     "name": "stderr",
     "output_type": "stream",
     "text": [
      "Region:   0%|                                             | 0/1 [00:00<?, ?it/s]"
     ]
    },
    {
     "name": "stdout",
     "output_type": "stream",
     "text": [
      "VISa\n",
      "# units: 68\n"
     ]
    },
    {
     "name": "stderr",
     "output_type": "stream",
     "text": [
      "\n",
      "  0%|                                                     | 0/5 [00:00<?, ?it/s]\u001b[A/tmp/ipykernel_41749/2536621855.py:15: RuntimeWarning: invalid value encountered in sqrt\n",
      "  D = np.sqrt(D).reshape(C,T,T,C)\n",
      "\n",
      " 20%|█████████                                    | 1/5 [00:15<01:03, 15.88s/it]\u001b[A/tmp/ipykernel_41749/2536621855.py:15: RuntimeWarning: invalid value encountered in sqrt\n",
      "  D = np.sqrt(D).reshape(C,T,T,C)\n",
      "\n",
      " 40%|██████████████████                           | 2/5 [00:32<00:48, 16.03s/it]\u001b[A/tmp/ipykernel_41749/2536621855.py:15: RuntimeWarning: invalid value encountered in sqrt\n",
      "  D = np.sqrt(D).reshape(C,T,T,C)\n",
      "\n",
      " 60%|███████████████████████████                  | 3/5 [00:48<00:32, 16.32s/it]\u001b[A/tmp/ipykernel_41749/2536621855.py:15: RuntimeWarning: invalid value encountered in sqrt\n",
      "  D = np.sqrt(D).reshape(C,T,T,C)\n",
      "\n",
      " 80%|████████████████████████████████████         | 4/5 [01:05<00:16, 16.44s/it]\u001b[A/tmp/ipykernel_41749/2536621855.py:15: RuntimeWarning: invalid value encountered in sqrt\n",
      "  D = np.sqrt(D).reshape(C,T,T,C)\n",
      "\n",
      "100%|█████████████████████████████████████████████| 5/5 [01:20<00:00, 16.12s/it]\u001b[A"
     ]
    },
    {
     "name": "stdout",
     "output_type": "stream",
     "text": [
      "baseline acc:  0.613 auc:  0.709\n",
      "reduced-rank acc:  0.579 auc:  0.650\n"
     ]
    },
    {
     "name": "stderr",
     "output_type": "stream",
     "text": [
      "\n"
     ]
    },
    {
     "data": {
      "image/png": "[encoded data removed]",
      "text/plain": [
       "<Figure size 400x200 with 1 Axes>"
      ]
     },
     "metadata": {},
     "output_type": "display_data"
    },
    {
     "name": "stderr",
     "output_type": "stream",
     "text": [
      "                                                                                \r"
     ]
    },
    {
     "name": "stdout",
     "output_type": "stream",
     "text": [
      "/home/yizi/decode-brain-wide-map/results/VISa/4b7fbad4-f6de-43b4-9b15-c7c7ef44db4b/stimOn_times_-0.5_1.5_0.05_all_units.npy\n",
      "Finished eid: 4b7fbad4-f6de-43b4-9b15-c7c7ef44db4b\n",
      "[0.613243980449419, 0.7092322542307153, 0.5791860155973059, 0.6504383294750152]\n",
      "7 / 16 ...\n",
      "truncated job because this job_repeat (0) includes more than 0 pseudo sessions\n",
      "Running merged probes for session eid: c99d53e6-c317-4c53-99ba-070b26673ac4\n",
      "error loading choice data\n",
      "\n",
      "Working on eid: c99d53e6-c317-4c53-99ba-070b26673ac4\n"
     ]
    },
    {
     "name": "stderr",
     "output_type": "stream",
     "text": [
      "Region:   0%|                                             | 0/1 [00:00<?, ?it/s]"
     ]
    },
    {
     "name": "stdout",
     "output_type": "stream",
     "text": [
      "VISa\n",
      "# units: 141\n"
     ]
    },
    {
     "name": "stderr",
     "output_type": "stream",
     "text": [
      "\n",
      "  0%|                                                     | 0/5 [00:00<?, ?it/s]\u001b[A/tmp/ipykernel_41749/2536621855.py:15: RuntimeWarning: invalid value encountered in sqrt\n",
      "  D = np.sqrt(D).reshape(C,T,T,C)\n",
      "\n",
      " 20%|█████████                                    | 1/5 [00:29<01:58, 29.75s/it]\u001b[A/tmp/ipykernel_41749/2536621855.py:15: RuntimeWarning: invalid value encountered in sqrt\n",
      "  D = np.sqrt(D).reshape(C,T,T,C)\n",
      "\n",
      " 40%|██████████████████                           | 2/5 [00:57<01:26, 28.75s/it]\u001b[A/tmp/ipykernel_41749/2536621855.py:15: RuntimeWarning: invalid value encountered in sqrt\n",
      "  D = np.sqrt(D).reshape(C,T,T,C)\n",
      "\n",
      " 60%|███████████████████████████                  | 3/5 [01:28<00:58, 29.46s/it]\u001b[A/tmp/ipykernel_41749/2536621855.py:15: RuntimeWarning: invalid value encountered in sqrt\n",
      "  D = np.sqrt(D).reshape(C,T,T,C)\n",
      "\n",
      " 80%|████████████████████████████████████         | 4/5 [01:57<00:29, 29.48s/it]\u001b[A/tmp/ipykernel_41749/2536621855.py:15: RuntimeWarning: invalid value encountered in sqrt\n",
      "  D = np.sqrt(D).reshape(C,T,T,C)\n",
      "\n",
      "100%|█████████████████████████████████████████████| 5/5 [02:25<00:00, 29.08s/it]\u001b[A"
     ]
    },
    {
     "name": "stdout",
     "output_type": "stream",
     "text": [
      "baseline acc:  0.776 auc:  0.858\n",
      "reduced-rank acc:  0.725 auc:  0.785\n"
     ]
    },
    {
     "name": "stderr",
     "output_type": "stream",
     "text": [
      "\n"
     ]
    },
    {
     "data": {
      "image/png": "[encoded data removed]",
      "text/plain": [
       "<Figure size 400x200 with 1 Axes>"
      ]
     },
     "metadata": {},
     "output_type": "display_data"
    },
    {
     "name": "stderr",
     "output_type": "stream",
     "text": [
      "                                                                                \r"
     ]
    },
    {
     "name": "stdout",
     "output_type": "stream",
     "text": [
      "/home/yizi/decode-brain-wide-map/results/VISa/c99d53e6-c317-4c53-99ba-070b26673ac4/stimOn_times_-0.5_1.5_0.05_all_units.npy\n",
      "Finished eid: c99d53e6-c317-4c53-99ba-070b26673ac4\n",
      "[0.7761045887538958, 0.8578979911857333, 0.7246317100955298, 0.7852322980043022]\n",
      "8 / 16 ...\n",
      "truncated job because this job_repeat (0) includes more than 0 pseudo sessions\n",
      "Running merged probes for session eid: ecb5520d-1358-434c-95ec-93687ecd1396\n",
      "error loading choice data\n",
      "\n",
      "Working on eid: ecb5520d-1358-434c-95ec-93687ecd1396\n"
     ]
    },
    {
     "name": "stderr",
     "output_type": "stream",
     "text": [
      "                                                                                "
     ]
    },
    {
     "name": "stdout",
     "output_type": "stream",
     "text": [
      "VISa\n",
      "9 / 16 ...\n",
      "truncated job because this job_repeat (0) includes more than 0 pseudo sessions\n",
      "Running merged probes for session eid: 4b00df29-3769-43be-bb40-128b1cba6d35\n"
     ]
    },
    {
     "name": "stderr",
     "output_type": "stream",
     "text": [
      "\r"
     ]
    },
    {
     "name": "stdout",
     "output_type": "stream",
     "text": [
      "error loading choice data\n",
      "\n",
      "VISa not found. Skip to next eid.\n",
      "10 / 16 ...\n",
      "truncated job because this job_repeat (0) includes more than 0 pseudo sessions\n",
      "Running merged probes for session eid: f312aaec-3b6f-44b3-86b4-3a0c119c0438\n",
      "error loading choice data\n",
      "\n",
      "Working on eid: f312aaec-3b6f-44b3-86b4-3a0c119c0438\n"
     ]
    },
    {
     "name": "stderr",
     "output_type": "stream",
     "text": [
      "                                                                                "
     ]
    },
    {
     "name": "stdout",
     "output_type": "stream",
     "text": [
      "VISa\n",
      "11 / 16 ...\n",
      "truncated job because this job_repeat (0) includes more than 0 pseudo sessions\n",
      "Running merged probes for session eid: 824cf03d-4012-4ab1-b499-c83a92c5589e\n"
     ]
    },
    {
     "name": "stderr",
     "output_type": "stream",
     "text": [
      "\r"
     ]
    },
    {
     "name": "stdout",
     "output_type": "stream",
     "text": [
      "error loading choice data\n",
      "\n",
      "Working on eid: 824cf03d-4012-4ab1-b499-c83a92c5589e\n"
     ]
    },
    {
     "name": "stderr",
     "output_type": "stream",
     "text": [
      "Region:   0%|                                             | 0/1 [00:00<?, ?it/s]"
     ]
    },
    {
     "name": "stdout",
     "output_type": "stream",
     "text": [
      "VISa\n",
      "# units: 24\n"
     ]
    },
    {
     "name": "stderr",
     "output_type": "stream",
     "text": [
      "\n",
      "  0%|                                                     | 0/5 [00:00<?, ?it/s]\u001b[A/tmp/ipykernel_41749/2536621855.py:15: RuntimeWarning: invalid value encountered in sqrt\n",
      "  D = np.sqrt(D).reshape(C,T,T,C)\n",
      "\n",
      " 20%|█████████                                    | 1/5 [00:03<00:14,  3.70s/it]\u001b[A/tmp/ipykernel_41749/2536621855.py:15: RuntimeWarning: invalid value encountered in sqrt\n",
      "  D = np.sqrt(D).reshape(C,T,T,C)\n",
      "\n",
      " 40%|██████████████████                           | 2/5 [00:07<00:11,  3.96s/it]\u001b[A/tmp/ipykernel_41749/2536621855.py:15: RuntimeWarning: invalid value encountered in sqrt\n",
      "  D = np.sqrt(D).reshape(C,T,T,C)\n",
      "\n",
      " 60%|███████████████████████████                  | 3/5 [00:12<00:08,  4.16s/it]\u001b[A/tmp/ipykernel_41749/2536621855.py:15: RuntimeWarning: invalid value encountered in sqrt\n",
      "  D = np.sqrt(D).reshape(C,T,T,C)\n",
      "\n",
      " 80%|████████████████████████████████████         | 4/5 [00:16<00:04,  4.00s/it]\u001b[A/tmp/ipykernel_41749/2536621855.py:15: RuntimeWarning: invalid value encountered in sqrt\n",
      "  D = np.sqrt(D).reshape(C,T,T,C)\n",
      "\n",
      "100%|█████████████████████████████████████████████| 5/5 [00:20<00:00,  4.06s/it]\u001b[A\n"
     ]
    },
    {
     "name": "stdout",
     "output_type": "stream",
     "text": [
      "baseline acc:  0.725 auc:  0.862\n",
      "reduced-rank acc:  0.729 auc:  0.837\n"
     ]
    },
    {
     "data": {
      "image/png": "[encoded data removed]",
      "text/plain": [
       "<Figure size 400x200 with 1 Axes>"
      ]
     },
     "metadata": {},
     "output_type": "display_data"
    },
    {
     "name": "stderr",
     "output_type": "stream",
     "text": [
      "                                                                                \r"
     ]
    },
    {
     "name": "stdout",
     "output_type": "stream",
     "text": [
      "/home/yizi/decode-brain-wide-map/results/VISa/824cf03d-4012-4ab1-b499-c83a92c5589e/stimOn_times_-0.5_1.5_0.05_all_units.npy\n",
      "Finished eid: 824cf03d-4012-4ab1-b499-c83a92c5589e\n",
      "[0.7253391165802038, 0.8616409440114102, 0.728688433980164, 0.8366540342778542]\n",
      "12 / 16 ...\n",
      "truncated job because this job_repeat (0) includes more than 0 pseudo sessions\n",
      "Running merged probes for session eid: e2b845a1-e313-4a08-bc61-a5f662ed295e\n",
      "error loading choice data\n",
      "\n",
      "Working on eid: e2b845a1-e313-4a08-bc61-a5f662ed295e\n",
      "\u001b[36m2024-01-02 21:33:15.814 INFO     [base_models.py:  109]   Launching MCMC procedure with 4 chains, 5000 max steps and [0.05 0.04 0.02 0.02] std_RW. Early stopping is activated\u001b[0m\n",
      "\u001b[36m2024-01-02 21:33:15.815 INFO     [base_models.py:  119]   with adaptive MCMC...\u001b[0m\n",
      "\u001b[36m2024-01-02 21:33:15.816 INFO     [base_models.py:  121]   initial point for MCMC is [[0.5    0.5    0.25   0.25  ]\n",
      " [0.75   0.25   0.375  0.125 ]\n",
      " [0.25   0.75   0.125  0.375 ]\n",
      " [0.375  0.375  0.3125 0.0625]]\u001b[0m\n"
     ]
    },
    {
     "name": "stderr",
     "output_type": "stream",
     "text": [
      " 10%|████                                    | 500/5000 [01:00<08:43,  8.60it/s]"
     ]
    },
    {
     "name": "stdout",
     "output_type": "stream",
     "text": [
      "\u001b[36m2024-01-02 21:34:16.239 INFO     [base_models.py:  165]   Adaptive MCMC starting...\u001b[0m\n"
     ]
    },
    {
     "name": "stderr",
     "output_type": "stream",
     "text": [
      " 12%|████▊                                   | 600/5000 [01:12<08:43,  8.41it/s]"
     ]
    },
    {
     "name": "stdout",
     "output_type": "stream",
     "text": [
      "\u001b[36m2024-01-02 21:34:28.231 INFO     [base_models.py:  189]   acceptance is 0.3020833333333333\u001b[0m\n"
     ]
    },
    {
     "name": "stderr",
     "output_type": "stream",
     "text": [
      " 14%|█████▌                                  | 700/5000 [01:24<08:26,  8.49it/s]"
     ]
    },
    {
     "name": "stdout",
     "output_type": "stream",
     "text": [
      "\u001b[36m2024-01-02 21:34:40.189 INFO     [base_models.py:  189]   acceptance is 0.2875\u001b[0m\n"
     ]
    },
    {
     "name": "stderr",
     "output_type": "stream",
     "text": [
      " 16%|██████▍                                 | 800/5000 [01:36<08:15,  8.48it/s]"
     ]
    },
    {
     "name": "stdout",
     "output_type": "stream",
     "text": [
      "\u001b[36m2024-01-02 21:34:52.168 INFO     [base_models.py:  189]   acceptance is 0.2796875\u001b[0m\n"
     ]
    },
    {
     "name": "stderr",
     "output_type": "stream",
     "text": [
      " 18%|███████▏                                | 900/5000 [01:48<08:26,  8.10it/s]"
     ]
    },
    {
     "name": "stdout",
     "output_type": "stream",
     "text": [
      "\u001b[36m2024-01-02 21:35:04.495 INFO     [base_models.py:  189]   acceptance is 0.27749999999999997\u001b[0m\n"
     ]
    },
    {
     "name": "stderr",
     "output_type": "stream",
     "text": [
      " 20%|███████▊                               | 1000/5000 [02:00<08:29,  7.85it/s]"
     ]
    },
    {
     "name": "stdout",
     "output_type": "stream",
     "text": [
      "\u001b[36m2024-01-02 21:35:16.660 INFO     [base_models.py:  189]   acceptance is 0.27375000000000005\u001b[0m\n"
     ]
    },
    {
     "name": "stderr",
     "output_type": "stream",
     "text": [
      " 20%|███████▊                               | 1001/5000 [02:00<08:24,  7.92it/s]"
     ]
    },
    {
     "name": "stdout",
     "output_type": "stream",
     "text": [
      "\u001b[36m2024-01-02 21:35:16.781 INFO     [base_models.py:  159]   Early stopping criteria was validated at step 1001. R values are: [1.02345986 1.03614637 0.99896613 1.00598375]\u001b[0m\n"
     ]
    },
    {
     "name": "stderr",
     "output_type": "stream",
     "text": [
      "                                                                                "
     ]
    },
    {
     "name": "stdout",
     "output_type": "stream",
     "text": [
      "\u001b[36m2024-01-02 21:35:16.785 INFO     [base_models.py:  194]   final posterior_mean is [0.23943007 0.14023087 0.08556136 0.12980136]\u001b[0m\n",
      "\u001b[36m2024-01-02 21:35:16.786 INFO     [base_models.py:  203]   acceptance ratio is of 0.273976023976024. Careful, this ratio should be close to 0.234. If not, change the standard deviation of the random walk\u001b[0m\n",
      "\u001b[36m2024-01-02 21:35:16.789 INFO     [base_models.py:  312]   results of inference SAVED in /mnt/3TB/yizi/decode-paper-brain-wide-map/decoding/results/behavioral/UCLA036/model_actKernel_single_zeta/train_e2b845a1.pkl\u001b[0m\n"
     ]
    },
    {
     "name": "stderr",
     "output_type": "stream",
     "text": [
      "Region:   0%|                                             | 0/1 [00:00<?, ?it/s]"
     ]
    },
    {
     "name": "stdout",
     "output_type": "stream",
     "text": [
      "VISa\n",
      "# units: 126\n"
     ]
    },
    {
     "name": "stderr",
     "output_type": "stream",
     "text": [
      "\n",
      "  0%|                                                     | 0/5 [00:00<?, ?it/s]\u001b[A/tmp/ipykernel_41749/2536621855.py:15: RuntimeWarning: invalid value encountered in sqrt\n",
      "  D = np.sqrt(D).reshape(C,T,T,C)\n",
      "\n",
      " 20%|█████████                                    | 1/5 [00:16<01:05, 16.32s/it]\u001b[A/tmp/ipykernel_41749/2536621855.py:15: RuntimeWarning: invalid value encountered in sqrt\n",
      "  D = np.sqrt(D).reshape(C,T,T,C)\n",
      "\n",
      " 40%|██████████████████                           | 2/5 [00:34<00:52, 17.58s/it]\u001b[A/tmp/ipykernel_41749/2536621855.py:15: RuntimeWarning: invalid value encountered in sqrt\n",
      "  D = np.sqrt(D).reshape(C,T,T,C)\n",
      "\n",
      " 60%|███████████████████████████                  | 3/5 [00:51<00:34, 17.27s/it]\u001b[A/tmp/ipykernel_41749/2536621855.py:15: RuntimeWarning: invalid value encountered in sqrt\n",
      "  D = np.sqrt(D).reshape(C,T,T,C)\n",
      "\n",
      " 80%|████████████████████████████████████         | 4/5 [01:09<00:17, 17.59s/it]\u001b[A/tmp/ipykernel_41749/2536621855.py:15: RuntimeWarning: invalid value encountered in sqrt\n",
      "  D = np.sqrt(D).reshape(C,T,T,C)\n",
      "\n",
      "100%|█████████████████████████████████████████████| 5/5 [01:27<00:00, 17.47s/it]\u001b[A"
     ]
    },
    {
     "name": "stdout",
     "output_type": "stream",
     "text": [
      "baseline acc:  0.548 auc:  0.613\n",
      "reduced-rank acc:  0.579 auc:  0.596\n"
     ]
    },
    {
     "name": "stderr",
     "output_type": "stream",
     "text": [
      "\n"
     ]
    },
    {
     "data": {
      "image/png": "[encoded data removed]",
      "text/plain": [
       "<Figure size 400x200 with 1 Axes>"
      ]
     },
     "metadata": {},
     "output_type": "display_data"
    },
    {
     "name": "stderr",
     "output_type": "stream",
     "text": [
      "                                                                                \r"
     ]
    },
    {
     "name": "stdout",
     "output_type": "stream",
     "text": [
      "/home/yizi/decode-brain-wide-map/results/VISa/e2b845a1-e313-4a08-bc61-a5f662ed295e/stimOn_times_-0.5_1.5_0.05_all_units.npy\n",
      "Finished eid: e2b845a1-e313-4a08-bc61-a5f662ed295e\n",
      "[0.5479794053464266, 0.6131466293818748, 0.5792838581644866, 0.5956604002789091]\n",
      "13 / 16 ...\n",
      "truncated job because this job_repeat (0) includes more than 0 pseudo sessions\n",
      "Running merged probes for session eid: 2bdf206a-820f-402f-920a-9e86cd5388a4\n",
      "error loading choice data\n",
      "\n",
      "Working on eid: 2bdf206a-820f-402f-920a-9e86cd5388a4\n",
      "\u001b[36m2024-01-02 21:37:10.152 INFO     [base_models.py:  109]   Launching MCMC procedure with 4 chains, 5000 max steps and [0.05 0.04 0.02 0.02] std_RW. Early stopping is activated\u001b[0m\n",
      "\u001b[36m2024-01-02 21:37:10.153 INFO     [base_models.py:  119]   with adaptive MCMC...\u001b[0m\n",
      "\u001b[36m2024-01-02 21:37:10.154 INFO     [base_models.py:  121]   initial point for MCMC is [[0.5    0.5    0.25   0.25  ]\n",
      " [0.75   0.25   0.375  0.125 ]\n",
      " [0.25   0.75   0.125  0.375 ]\n",
      " [0.375  0.375  0.3125 0.0625]]\u001b[0m\n"
     ]
    },
    {
     "name": "stderr",
     "output_type": "stream",
     "text": [
      " 10%|████                                    | 500/5000 [01:13<11:07,  6.74it/s]"
     ]
    },
    {
     "name": "stdout",
     "output_type": "stream",
     "text": [
      "\u001b[36m2024-01-02 21:38:23.619 INFO     [base_models.py:  165]   Adaptive MCMC starting...\u001b[0m\n"
     ]
    },
    {
     "name": "stderr",
     "output_type": "stream",
     "text": [
      " 12%|████▊                                   | 600/5000 [01:27<10:24,  7.04it/s]"
     ]
    },
    {
     "name": "stdout",
     "output_type": "stream",
     "text": [
      "\u001b[36m2024-01-02 21:38:38.437 INFO     [base_models.py:  189]   acceptance is 0.2504166666666667\u001b[0m\n"
     ]
    },
    {
     "name": "stderr",
     "output_type": "stream",
     "text": [
      " 14%|█████▌                                  | 700/5000 [01:42<10:33,  6.79it/s]"
     ]
    },
    {
     "name": "stdout",
     "output_type": "stream",
     "text": [
      "\u001b[36m2024-01-02 21:38:52.943 INFO     [base_models.py:  189]   acceptance is 0.24428571428571427\u001b[0m\n"
     ]
    },
    {
     "name": "stderr",
     "output_type": "stream",
     "text": [
      " 16%|██████▍                                 | 800/5000 [01:57<10:04,  6.95it/s]"
     ]
    },
    {
     "name": "stdout",
     "output_type": "stream",
     "text": [
      "\u001b[36m2024-01-02 21:39:07.480 INFO     [base_models.py:  189]   acceptance is 0.2415625\u001b[0m\n"
     ]
    },
    {
     "name": "stderr",
     "output_type": "stream",
     "text": [
      " 18%|███████▏                                | 900/5000 [02:11<09:50,  6.94it/s]"
     ]
    },
    {
     "name": "stdout",
     "output_type": "stream",
     "text": [
      "\u001b[36m2024-01-02 21:39:22.042 INFO     [base_models.py:  189]   acceptance is 0.24055555555555555\u001b[0m\n"
     ]
    },
    {
     "name": "stderr",
     "output_type": "stream",
     "text": [
      " 20%|███████▊                               | 1000/5000 [02:26<10:14,  6.51it/s]"
     ]
    },
    {
     "name": "stdout",
     "output_type": "stream",
     "text": [
      "\u001b[36m2024-01-02 21:39:36.668 INFO     [base_models.py:  189]   acceptance is 0.2375\u001b[0m\n"
     ]
    },
    {
     "name": "stderr",
     "output_type": "stream",
     "text": [
      " 20%|███████▊                               | 1001/5000 [02:26<10:06,  6.59it/s]"
     ]
    },
    {
     "name": "stdout",
     "output_type": "stream",
     "text": [
      "\u001b[36m2024-01-02 21:39:36.823 INFO     [base_models.py:  159]   Early stopping criteria was validated at step 1001. R values are: [1.03310233 1.04030121 1.04473037 1.00429859]\u001b[0m\n"
     ]
    },
    {
     "name": "stderr",
     "output_type": "stream",
     "text": [
      "                                                                                "
     ]
    },
    {
     "name": "stdout",
     "output_type": "stream",
     "text": [
      "\u001b[36m2024-01-02 21:39:36.825 INFO     [base_models.py:  194]   final posterior_mean is [0.23362447 0.11524757 0.12075675 0.03219401]\u001b[0m\n",
      "\u001b[36m2024-01-02 21:39:36.827 INFO     [base_models.py:  203]   acceptance ratio is of 0.2375124875124875. Careful, this ratio should be close to 0.234. If not, change the standard deviation of the random walk\u001b[0m\n",
      "\u001b[36m2024-01-02 21:39:36.830 INFO     [base_models.py:  312]   results of inference SAVED in /mnt/3TB/yizi/decode-paper-brain-wide-map/decoding/results/behavioral/UCLA037/model_actKernel_single_zeta/train_2bdf206a.pkl\u001b[0m\n"
     ]
    },
    {
     "name": "stderr",
     "output_type": "stream",
     "text": [
      "                                                                                "
     ]
    },
    {
     "name": "stdout",
     "output_type": "stream",
     "text": [
      "VISa\n",
      "14 / 16 ...\n",
      "truncated job because this job_repeat (0) includes more than 0 pseudo sessions\n",
      "Running merged probes for session eid: aad23144-0e52-4eac-80c5-c4ee2decb198\n"
     ]
    },
    {
     "name": "stderr",
     "output_type": "stream",
     "text": [
      "local md5 mismatch on dataset: cortexlab/Subjects/KS023/2019-12-10/001/alf/_ibl_trials.goCueTrigger_times.npy\n"
     ]
    },
    {
     "name": "stdout",
     "output_type": "stream",
     "text": [
      "Downloading: /mnt/3TB/yizi/Downloads/ONE/openalyx.internationalbrainlab.org/cortexlab/Subjects/KS023/2019-12-10/001/alf/_ibl_trials.goCueTrigger_times.16c81eaf-a032-49cd-9823-09c0c7350fd2.npy Bytes: 5256\n"
     ]
    },
    {
     "name": "stderr",
     "output_type": "stream",
     "text": [
      "100%|█████████| 0.00501251220703125/0.00501251220703125 [00:00<00:00,  2.44it/s]"
     ]
    },
    {
     "name": "stdout",
     "output_type": "stream",
     "text": [
      "error loading choice data\n",
      "\n"
     ]
    },
    {
     "name": "stderr",
     "output_type": "stream",
     "text": [
      "\n"
     ]
    },
    {
     "name": "stdout",
     "output_type": "stream",
     "text": [
      "Working on eid: aad23144-0e52-4eac-80c5-c4ee2decb198\n",
      "\u001b[36m2024-01-02 21:39:46.045 INFO     [base_models.py:  109]   Launching MCMC procedure with 4 chains, 5000 max steps and [0.05 0.04 0.02 0.02] std_RW. Early stopping is activated\u001b[0m\n",
      "\u001b[36m2024-01-02 21:39:46.046 INFO     [base_models.py:  119]   with adaptive MCMC...\u001b[0m\n",
      "\u001b[36m2024-01-02 21:39:46.046 INFO     [base_models.py:  121]   initial point for MCMC is [[0.5    0.5    0.25   0.25  ]\n",
      " [0.75   0.25   0.375  0.125 ]\n",
      " [0.25   0.75   0.125  0.375 ]\n",
      " [0.375  0.375  0.3125 0.0625]]\u001b[0m\n"
     ]
    },
    {
     "name": "stderr",
     "output_type": "stream",
     "text": [
      " 10%|████                                    | 500/5000 [01:38<14:55,  5.03it/s]"
     ]
    },
    {
     "name": "stdout",
     "output_type": "stream",
     "text": [
      "\u001b[36m2024-01-02 21:41:25.067 INFO     [base_models.py:  165]   Adaptive MCMC starting...\u001b[0m\n"
     ]
    },
    {
     "name": "stderr",
     "output_type": "stream",
     "text": [
      " 12%|████▊                                   | 600/5000 [02:00<16:50,  4.35it/s]"
     ]
    },
    {
     "name": "stdout",
     "output_type": "stream",
     "text": [
      "\u001b[36m2024-01-02 21:41:46.859 INFO     [base_models.py:  189]   acceptance is 0.18208333333333332\u001b[0m\n"
     ]
    },
    {
     "name": "stderr",
     "output_type": "stream",
     "text": [
      " 14%|█████▌                                  | 700/5000 [02:21<14:48,  4.84it/s]"
     ]
    },
    {
     "name": "stdout",
     "output_type": "stream",
     "text": [
      "\u001b[36m2024-01-02 21:42:08.019 INFO     [base_models.py:  189]   acceptance is 0.18000000000000002\u001b[0m\n"
     ]
    },
    {
     "name": "stderr",
     "output_type": "stream",
     "text": [
      " 16%|██████▍                                 | 800/5000 [02:42<14:06,  4.96it/s]"
     ]
    },
    {
     "name": "stdout",
     "output_type": "stream",
     "text": [
      "\u001b[36m2024-01-02 21:42:28.435 INFO     [base_models.py:  189]   acceptance is 0.1878125\u001b[0m\n"
     ]
    },
    {
     "name": "stderr",
     "output_type": "stream",
     "text": [
      " 18%|███████▏                                | 900/5000 [03:02<13:55,  4.91it/s]"
     ]
    },
    {
     "name": "stdout",
     "output_type": "stream",
     "text": [
      "\u001b[36m2024-01-02 21:42:48.470 INFO     [base_models.py:  189]   acceptance is 0.1913888888888889\u001b[0m\n"
     ]
    },
    {
     "name": "stderr",
     "output_type": "stream",
     "text": [
      " 20%|███████▊                               | 1000/5000 [03:23<10:30,  6.34it/s]"
     ]
    },
    {
     "name": "stdout",
     "output_type": "stream",
     "text": [
      "\u001b[36m2024-01-02 21:43:09.913 INFO     [base_models.py:  189]   acceptance is 0.19274999999999998\u001b[0m\n"
     ]
    },
    {
     "name": "stderr",
     "output_type": "stream",
     "text": [
      " 20%|███████▊                               | 1001/5000 [03:23<11:32,  5.77it/s]"
     ]
    },
    {
     "name": "stdout",
     "output_type": "stream",
     "text": [
      "\u001b[36m2024-01-02 21:43:10.103 INFO     [base_models.py:  159]   Early stopping criteria was validated at step 1001. R values are: [1.01977794 1.03109128 1.03668113 1.05796906]\u001b[0m\n"
     ]
    },
    {
     "name": "stderr",
     "output_type": "stream",
     "text": [
      "                                                                                "
     ]
    },
    {
     "name": "stdout",
     "output_type": "stream",
     "text": [
      "\u001b[36m2024-01-02 21:43:10.105 INFO     [base_models.py:  194]   final posterior_mean is [0.1682249  0.08360146 0.03204085 0.01887107]\u001b[0m\n",
      "\u001b[36m2024-01-02 21:43:10.106 INFO     [base_models.py:  203]   acceptance ratio is of 0.1928071928071928. Careful, this ratio should be close to 0.234. If not, change the standard deviation of the random walk\u001b[0m\n",
      "\u001b[36m2024-01-02 21:43:10.109 INFO     [base_models.py:  312]   results of inference SAVED in /mnt/3TB/yizi/decode-paper-brain-wide-map/decoding/results/behavioral/KS023/model_actKernel_single_zeta/train_aad23144.pkl\u001b[0m\n"
     ]
    },
    {
     "name": "stderr",
     "output_type": "stream",
     "text": [
      "                                                                                "
     ]
    },
    {
     "name": "stdout",
     "output_type": "stream",
     "text": [
      "VISa\n",
      "15 / 16 ...\n",
      "truncated job because this job_repeat (0) includes more than 0 pseudo sessions\n",
      "Running merged probes for session eid: 781b35fd-e1f0-4d14-b2bb-95b7263082bb\n"
     ]
    },
    {
     "name": "stderr",
     "output_type": "stream",
     "text": [
      "\r"
     ]
    },
    {
     "name": "stdout",
     "output_type": "stream",
     "text": [
      "error loading choice data\n",
      "\n",
      "Working on eid: 781b35fd-e1f0-4d14-b2bb-95b7263082bb\n"
     ]
    },
    {
     "name": "stderr",
     "output_type": "stream",
     "text": [
      "Region:   0%|                                             | 0/1 [00:00<?, ?it/s]"
     ]
    },
    {
     "name": "stdout",
     "output_type": "stream",
     "text": [
      "VISa\n",
      "# units: 111\n"
     ]
    },
    {
     "name": "stderr",
     "output_type": "stream",
     "text": [
      "\n",
      "  0%|                                                     | 0/5 [00:00<?, ?it/s]\u001b[A/tmp/ipykernel_41749/2536621855.py:15: RuntimeWarning: invalid value encountered in sqrt\n",
      "  D = np.sqrt(D).reshape(C,T,T,C)\n",
      "\n",
      " 20%|█████████                                    | 1/5 [00:22<01:28, 22.18s/it]\u001b[A/tmp/ipykernel_41749/2536621855.py:15: RuntimeWarning: invalid value encountered in sqrt\n",
      "  D = np.sqrt(D).reshape(C,T,T,C)\n",
      "\n",
      " 40%|██████████████████                           | 2/5 [00:46<01:09, 23.32s/it]\u001b[A/tmp/ipykernel_41749/2536621855.py:15: RuntimeWarning: invalid value encountered in sqrt\n",
      "  D = np.sqrt(D).reshape(C,T,T,C)\n",
      "\n",
      " 60%|███████████████████████████                  | 3/5 [01:08<00:45, 22.59s/it]\u001b[A/tmp/ipykernel_41749/2536621855.py:15: RuntimeWarning: invalid value encountered in sqrt\n",
      "  D = np.sqrt(D).reshape(C,T,T,C)\n",
      "\n",
      " 80%|████████████████████████████████████         | 4/5 [01:34<00:24, 24.09s/it]\u001b[A/tmp/ipykernel_41749/2536621855.py:15: RuntimeWarning: invalid value encountered in sqrt\n",
      "  D = np.sqrt(D).reshape(C,T,T,C)\n",
      "\n",
      "100%|█████████████████████████████████████████████| 5/5 [01:56<00:00, 23.25s/it]\u001b[A"
     ]
    },
    {
     "name": "stdout",
     "output_type": "stream",
     "text": [
      "baseline acc:  0.767 auc:  0.823\n",
      "reduced-rank acc:  0.696 auc:  0.750\n"
     ]
    },
    {
     "name": "stderr",
     "output_type": "stream",
     "text": [
      "\n"
     ]
    },
    {
     "data": {
      "image/png": "[encoded data removed]",
      "text/plain": [
       "<Figure size 400x200 with 1 Axes>"
      ]
     },
     "metadata": {},
     "output_type": "display_data"
    },
    {
     "name": "stderr",
     "output_type": "stream",
     "text": [
      "                                                                                "
     ]
    },
    {
     "name": "stdout",
     "output_type": "stream",
     "text": [
      "/home/yizi/decode-brain-wide-map/results/VISa/781b35fd-e1f0-4d14-b2bb-95b7263082bb/stimOn_times_-0.5_1.5_0.05_all_units.npy\n",
      "Finished eid: 781b35fd-e1f0-4d14-b2bb-95b7263082bb\n",
      "[0.7665868562755541, 0.8232641456199208, 0.6955370429805765, 0.7501919401386677]\n"
     ]
    },
    {
     "name": "stderr",
     "output_type": "stream",
     "text": [
      "\r"
     ]
    }
   ],
   "source": [
    "n_sess = bwm_df.shape[0] if bwm_df.shape[0] <= 15 else 15\n",
    "for idx in range(n_sess):\n",
    "    \n",
    "    res_by_eids = {}\n",
    "    \n",
    "    print(f\"{idx+1} / {n_sess+1} ...\")\n",
    "    \n",
    "    job_repeat = 0 \n",
    "    pseudo_ids = np.arange(job_repeat * params['n_pseudo_per_job'], (job_repeat + 1) * params['n_pseudo_per_job']) + 1\n",
    "    if 1 in pseudo_ids:\n",
    "        pseudo_ids = np.concatenate((-np.ones(1), pseudo_ids)).astype('int64')\n",
    "    if pseudo_ids[0] > params['n_pseudo']:\n",
    "        print(f\"ended job because this job_repeat ({job_repeat}) does not include any pseudo sessions < {params['n_pseudo']}\")\n",
    "        exit()\n",
    "    if pseudo_ids[-1] > params['n_pseudo']:\n",
    "        print(f\"truncated job because this job_repeat ({job_repeat}) includes more than {params['n_pseudo']} pseudo sessions\")\n",
    "        pseudo_ids = pseudo_ids[pseudo_ids <= params['n_pseudo']]\n",
    "\n",
    "    if params['merged_probes']:\n",
    "        eid = bwm_df['eid'].unique()[idx]\n",
    "        tmp_df = bwm_df.set_index(['eid', 'subject']).xs(eid, level='eid')\n",
    "        subject = tmp_df.index[0]\n",
    "        pids = tmp_df['pid'].to_list()  # Select all probes of this session\n",
    "        probe_names = tmp_df['probe_name'].to_list()\n",
    "        print(f\"Running merged probes for session eid: {eid}\")\n",
    "    else:\n",
    "        eid = bwm_df.iloc[idx]['eid']\n",
    "        subject = bwm_df.iloc[idx]['subject']\n",
    "        pid = bwm_df.iloc[idx]['pid']\n",
    "        probe_name = bwm_df.iloc[idx]['probe_name']\n",
    "        print(f\"Running probe pid: {pid}\")\n",
    "\n",
    "    sess_loader = SessionLoader(one, eid)\n",
    "    sess_loader.load_trials()\n",
    "\n",
    "    trials_df, trials_mask = load_trials_and_mask(\n",
    "        one=one, eid=eid, sess_loader=sess_loader, min_rt=params['min_rt'], max_rt=params['max_rt'],\n",
    "        min_trial_len=params['min_len'], max_trial_len=params['max_len'],\n",
    "        exclude_nochoice=True, exclude_unbiased=params['exclude_unbiased_trials'])\n",
    "    _, trials_mask_without_minrt = load_trials_and_mask(\n",
    "        one=one, eid=eid, sess_loader=sess_loader, min_rt=None, max_rt=params['max_rt'],\n",
    "        min_trial_len=params['min_len'], max_trial_len=params['max_len'],\n",
    "        exclude_nochoice=True, exclude_unbiased=params['exclude_unbiased_trials'])\n",
    "    _, trials_mask_without_maxrt = load_trials_and_mask(\n",
    "        one=one, eid=eid, sess_loader=sess_loader, min_rt=params['min_rt'], max_rt=None,\n",
    "        min_trial_len=params['min_len'], max_trial_len=params['max_len'],\n",
    "        exclude_nochoice=True, exclude_unbiased=params['exclude_unbiased_trials'])\n",
    "    _, trials_mask_withonly_nochoice = load_trials_and_mask(\n",
    "        one=one, eid=eid, sess_loader=sess_loader, min_rt=None, max_rt=None,\n",
    "        min_trial_len=None, max_trial_len=None,\n",
    "        exclude_nochoice=True, exclude_unbiased=False)\n",
    "\n",
    "    params['trials_mask_diagnostics'] = [trials_mask,\n",
    "                                         trials_mask_without_minrt,\n",
    "                                         trials_mask_without_maxrt,\n",
    "                                         trials_mask_withonly_nochoice]\n",
    "\n",
    "    # if params['target'] in ['wheel-vel', 'wheel-speed', 'l-whisker-me', 'r-whisker-me']:\n",
    "    if params['target'] in ['choice', 'wheel-vel', 'wheel-speed', 'l-whisker-me', 'r-whisker-me']:\n",
    "        # load target data\n",
    "        dlc_dict = load_behavior(params['target'], sess_loader)\n",
    "        # load imposter sessions\n",
    "        params['imposter_df'] = pd.read_parquet(imposter_file) if params['n_pseudo'] > 0 else None\n",
    "    else:\n",
    "        dlc_dict = None\n",
    "        params['imposter_df'] = None\n",
    "\n",
    "    if params['merged_probes']:\n",
    "        clusters_list = []\n",
    "        spikes_list = []\n",
    "        for pid, probe_name in zip(pids, probe_names):\n",
    "            # tmp_spikes, tmp_clusters = load_good_units(one, pid, eid=eid, pname=probe_name)\n",
    "            tmp_spikes, tmp_clusters = load_all_units(one, pid, eid=eid, pname=probe_name)\n",
    "            tmp_clusters['pid'] = pid\n",
    "            spikes_list.append(tmp_spikes)\n",
    "            clusters_list.append(tmp_clusters)\n",
    "        spikes, clusters = merge_probes(spikes_list, clusters_list)\n",
    "    else:\n",
    "        # spikes, clusters = load_good_units(one, pid, eid=eid, pname=probe_name)\n",
    "        spikes, clusters = load_all_units(one, pid, eid=eid, pname=probe_name)\n",
    "\n",
    "    neural_dict = {\n",
    "        'spk_times': spikes['times'],\n",
    "        'spk_clu': spikes['clusters'],\n",
    "        'clu_regions': clusters['acronym'],\n",
    "        'clu_qc': {k: np.asarray(v) for k, v in clusters.to_dict('list').items()},\n",
    "        'clu_df': clusters\n",
    "    }\n",
    "\n",
    "    metadata = {\n",
    "        'subject': subject,\n",
    "        'eid': eid,\n",
    "        'probe_name': probe_name\n",
    "    }\n",
    "    \n",
    "    kwargs = params\n",
    "    kwargs['n_runs'] = 1\n",
    "    kwargs['n_bins_lag'] = 0\n",
    "    \n",
    "    # select brain regions from beryl atlas to loop over\n",
    "    brainreg = BrainRegions()\n",
    "    beryl_reg = brainreg.acronym2acronym(neural_dict['clu_regions'], mapping='Beryl')\n",
    "    regions = (\n",
    "        [[k] for k in np.unique(beryl_reg)] if kwargs['single_region'] else [np.unique(beryl_reg)])\n",
    "    \n",
    "    if [roi] not in regions:\n",
    "        print(f\"{roi} not found. Skip to next eid.\")\n",
    "        continue\n",
    "    \n",
    "    print(f'Working on eid: {metadata[\"eid\"]}')\n",
    "    filenames = []  # this will contain paths to saved decoding results for this eid\n",
    "\n",
    "    # kwargs['use_imposter_session'] = True # turn on for bin_size > 1\n",
    "    kwargs['use_imposter_session'] = False\n",
    "    if kwargs['use_imposter_session'] and not kwargs['stitching_for_imposter_session']:\n",
    "        trials_df = trials_df[:int(kwargs['max_number_trials_when_no_stitching_for_imposter_session'])]\n",
    "\n",
    "    if 0 in pseudo_ids:\n",
    "        raise ValueError(\n",
    "            'pseudo id can be -1 (actual session) or strictly greater than 0 (pseudo session)')\n",
    "\n",
    "    if not np.all(np.sort(pseudo_ids) == pseudo_ids):\n",
    "        raise ValueError('pseudo_ids must be sorted')\n",
    "\n",
    "    if kwargs['model'] == optimal_Bayesian and np.any(trials_df.probabilityLeft.values[:90] != 0.5):\n",
    "        raise ValueError(\n",
    "            'The optimal Bayesian model assumes 90 unbiased trials at the beginning of the '\n",
    "            'session, which is not the case here.')\n",
    "\n",
    "    # check if is trained\n",
    "    eids_train = (\n",
    "        [metadata['eid']] if 'eids_train' not in metadata.keys() else metadata['eids_train'])\n",
    "    if 'eids_train' not in metadata.keys():\n",
    "        metadata['eids_train'] = eids_train\n",
    "    elif metadata['eids_train'] != eids_train:\n",
    "        raise ValueError(\n",
    "            'eids_train are not supported yet. If you do not understand this error, '\n",
    "            'just take out the eids_train key in the metadata to solve it')\n",
    "\n",
    "    if isinstance(kwargs['model'], str):\n",
    "        import pickle\n",
    "        from braindelphi.params import INTER_INDIVIDUAL_PATH\n",
    "        inter_individual = pickle.load(open(INTER_INDIVIDUAL_PATH.joinpath(kwargs['model']), 'rb'))\n",
    "        if metadata['eid'] not in inter_individual.keys():\n",
    "            logging.exception('no inter individual model found')\n",
    "            print(filenames)\n",
    "        inter_indiv_model_specifications = inter_individual[metadata['eid']]\n",
    "        print('winning interindividual model is %s' % inter_indiv_model_specifications['model_name'])\n",
    "        if inter_indiv_model_specifications['model_name'] not in kwargs['modeldispatcher'].values():\n",
    "            logging.exception('winning inter individual model is LeftKernel or RightKernel')\n",
    "            print(filenames)\n",
    "        kwargs['model'] = {v: k for k, v in kwargs['modeldispatcher'].items()}[inter_indiv_model_specifications['model_name']]\n",
    "        kwargs['model_parameters'] = inter_indiv_model_specifications['model_parameters']\n",
    "    else:\n",
    "        kwargs['model_parameters'] = None\n",
    "        # train model if not trained already\n",
    "        if kwargs['model'] != optimal_Bayesian and kwargs['model'] is not None:\n",
    "            side, stim, act, _ = format_data_mut(trials_df)\n",
    "            stimuli, actions, stim_side = format_input_mut([stim], [act], [side])\n",
    "            behmodel = kwargs['model'](\n",
    "                kwargs['behfit_path'], np.array(metadata['eids_train']), metadata['subject'],\n",
    "                actions, stimuli, trials_df, stim_side, single_zeta=True)\n",
    "            istrained, _ = check_bhv_fit_exists(\n",
    "                metadata['subject'], kwargs['model'], metadata['eids_train'],\n",
    "                kwargs['behfit_path'], modeldispatcher=kwargs['modeldispatcher'], single_zeta=True)\n",
    "            if not istrained:\n",
    "                behmodel.load_or_train(remove_old=False)\n",
    "\n",
    "    if kwargs['balanced_weight'] and kwargs['balanced_continuous_target']:\n",
    "        raise NotImplementedError(\"see tag `decoding_biasCWnull` for a previous implementation.\")\n",
    "    else:\n",
    "        target_distribution = None\n",
    "\n",
    "    # get target values\n",
    "    if kwargs['target'] in ['pLeft', 'signcont', 'strengthcont', 'choice', 'feedback']:\n",
    "        target_vals_list, target_vals_to_mask = compute_beh_target(\n",
    "            trials_df, metadata, return_raw=True, **kwargs)\n",
    "        target_mask = compute_target_mask(\n",
    "            target_vals_to_mask, kwargs['exclude_trials_within_values'])\n",
    "\n",
    "    else:\n",
    "        if dlc_dict is None or dlc_dict['times'] is None or dlc_dict['values'] is None:\n",
    "            raise ValueError('dlc_dict does not contain any data')\n",
    "        _, target_vals_list, target_mask = get_target_data_per_trial_wrapper(\n",
    "            target_times=dlc_dict['times'],\n",
    "            target_vals=dlc_dict['values'],\n",
    "            trials_df=trials_df,\n",
    "            align_event=kwargs['align_time'],\n",
    "            align_interval=kwargs['time_window'],\n",
    "            binsize=kwargs['binsize'])\n",
    "\n",
    "    mask = trials_mask & target_mask\n",
    "\n",
    "    if sum(mask) <= kwargs['min_behav_trials']:\n",
    "        msg = 'session contains %i trials, below the threshold of %i' % (\n",
    "            sum(mask), kwargs['min_behav_trials'])\n",
    "        logging.exception(msg)\n",
    "        print(filenames)\n",
    "        \n",
    "    roi_idx = np.argwhere(np.array([region[0].find(roi) for region in regions]) == 0).astype(int)\n",
    "    regions = regions[roi_idx[0][0]]\n",
    "    for region in tqdm(regions, desc='Region: ', leave=False):\n",
    "        \n",
    "        print(regions[0])\n",
    "        # pull spikes from this region out of the neural data\n",
    "        reg_clu_ids = select_ephys_regions(neural_dict, beryl_reg, region, **kwargs)\n",
    "\n",
    "        # skip region if there are not enough units\n",
    "        n_units = len(reg_clu_ids)\n",
    "        if n_units < 3:\n",
    "            continue\n",
    "        elif n_units > 150:\n",
    "            continue\n",
    "        print(f\"# units: {n_units}\")\n",
    "\n",
    "        # bin spikes from this region for each trial\n",
    "        msub_binned, cl_inds_used = preprocess_ephys(reg_clu_ids, neural_dict, trials_df, **kwargs)\n",
    "        cl_uuids_used = list(neural_dict['clu_df'].iloc[cl_inds_used]['uuids'])\n",
    "\n",
    "        # make design matrix\n",
    "        bins_per_trial = msub_binned[0].shape[0]\n",
    "        Xs = (\n",
    "            msub_binned if bins_per_trial == 1\n",
    "            else [build_predictor_matrix(s, kwargs['n_bins_lag']) for s in msub_binned]\n",
    "        )\n",
    "        \n",
    "        # reduced rank model\n",
    "        X = np.array(Xs)\n",
    "        Y = np.array(target_vals_list)\n",
    "        Y_c = (Y - Y.mean()).reshape(-1,1)\n",
    "        X_c = X - X.mean()\n",
    "        \n",
    "        n_folds = 5\n",
    "        penalty = [1e-4, 1e-3, 1e-2, 1, 1e1, 1e2, 1e3, 1e4]\n",
    "\n",
    "        baseline_accs, baseline_aucs = [], []\n",
    "        rrr_accs, rrr_aucs = [], []\n",
    "        Us, Vs = [], []\n",
    "\n",
    "        skf = KFold(n_splits=n_folds, shuffle=True, random_state=0)\n",
    "        for train, test in tqdm(skf.split(X, Y), total=n_folds):\n",
    "\n",
    "            K,T,C = X.shape\n",
    "\n",
    "            X_train, X_test, Y_train, Y_test = X[train], X[test], Y[train], Y[test]\n",
    "            decoder = GridSearchCV(sklm.LogisticRegression(max_iter=10000), {\"C\": penalty})\n",
    "            decoder.fit(X_train.reshape((-1,T*C)), Y_train)\n",
    "            yhat = decoder.predict(X_test.reshape((-1,T*C)))\n",
    "            prob = decoder.predict_proba(X_test.reshape((-1,T*C)))[:,1]\n",
    "            acc = balanced_accuracy_score(Y_test, yhat)\n",
    "            auc = roc_auc_score(Y_test, prob)\n",
    "            baseline_accs.append(acc)\n",
    "            baseline_aucs.append(auc)\n",
    "\n",
    "            X_train, X_test, Y_train, Y_test = X_c[train], X_c[test], Y_c[train], Y_c[test]\n",
    "            U, V = reduced_rank_close_form(X_train, Y_train, R=2, penalty=0)\n",
    "            Y_train, Y_test = Y[train], Y[test]\n",
    "            Yhat_train = np.einsum(\"ktr,rt->k\", X_train @ U, V)\n",
    "            Yhat_test = np.einsum(\"ktr,rt->k\", X_test @ U, V)\n",
    "\n",
    "            decoder = GridSearchCV(sklm.LogisticRegression(max_iter=10000), {\"C\": penalty})\n",
    "            decoder.fit(Yhat_train.reshape(-1,1), Y_train)\n",
    "            Yhat = decoder.predict(Yhat_test.reshape(-1,1))\n",
    "\n",
    "            acc = balanced_accuracy_score(Y_test, Yhat)\n",
    "            auc = roc_auc_score(Y_test, Yhat_test)\n",
    "            rrr_accs.append(acc)\n",
    "            rrr_aucs.append(auc)\n",
    "            Us.append(U)\n",
    "            Vs.append(V)\n",
    "\n",
    "        print(f\"baseline acc: {np.mean(baseline_accs): .3f} auc: {np.mean(baseline_aucs): .3f}\")\n",
    "        print(f\"reduced-rank acc: {np.mean(rrr_accs): .3f} auc: {np.mean(rrr_aucs): .3f}\")\n",
    "\n",
    "        Us = np.array(Us).mean(0)\n",
    "        Vs = np.array(Vs).mean(0).T\n",
    "\n",
    "        plt.figure(figsize=(4,2))\n",
    "        plt.plot(Vs)\n",
    "        plt.tight_layout()\n",
    "        plt.show()\n",
    "        \n",
    "        if not os.path.exists(dir_path/eid):\n",
    "            os.makedirs(dir_path/eid)\n",
    "        \n",
    "        res_path = dir_path/eid/f'{params[\"align_time\"]}_{params[\"time_window\"][0]}_{params[\"time_window\"][1]}_{params[\"binsize\"]}_{unit_type}.npy'\n",
    "        print(res_path)\n",
    "            \n",
    "        res = []\n",
    "        for filename in filenames:\n",
    "            with open(filename, 'rb') as f:\n",
    "                res.append(pickle.load(f))\n",
    "\n",
    "        res_by_eids.update({eid: {}})\n",
    "        res_by_eids[eid].update({\"metrics\": [np.mean(baseline_accs), np.mean(baseline_aucs), np.mean(rrr_accs), np.mean(rrr_aucs)]})            \n",
    "        res_by_eids[eid].update({\"UV\": [Us, Vs]})            \n",
    "\n",
    "        print(f'Finished eid: {metadata[\"eid\"]}')\n",
    "        print(res_by_eids[eid][\"metrics\"])\n",
    "        np.save(res_path, res_by_eids)"
   ]
  },
  {
   "cell_type": "code",
   "execution_count": null,
   "id": "21861aba-2463-4b53-8330-2acc9876fcb2",
   "metadata": {},
   "outputs": [],
   "source": []
  },
  {
   "cell_type": "code",
   "execution_count": null,
   "id": "94d94a7b-773a-428a-8e73-1020251d90df",
   "metadata": {},
   "outputs": [],
   "source": []
  }
 ],
 "metadata": {
  "kernelspec": {
   "display_name": "Python 3 (ipykernel)",
   "language": "python",
   "name": "python3"
  },
  "language_info": {
   "codemirror_mode": {
    "name": "ipython",
    "version": 3
   },
   "file_extension": ".py",
   "mimetype": "text/x-python",
   "name": "python",
   "nbconvert_exporter": "python",
   "pygments_lexer": "ipython3",
   "version": "3.10.13"
  }
 },
 "nbformat": 4,
 "nbformat_minor": 5
}
